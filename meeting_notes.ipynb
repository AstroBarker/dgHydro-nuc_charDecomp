{
 "cells": [
  {
   "cell_type": "markdown",
   "metadata": {},
   "source": [
    "### Notes From Meetings with Eirik\n",
    "---"
   ]
  },
  {
   "cell_type": "markdown",
   "metadata": {},
   "source": [
    "#### 02/11/2019\n",
    "\n",
    "$n_e$:Conservation of electron density\n",
    "$D$: baryon mass * baryon density * electron density / baryon density = m_b * n_e\n",
    "    Multiply $n_e$ equation by m_b\n",
    "    \n",
    "---\n",
    "\n",
    "Summary of DG method, borrow style from astronum:201x (no curvilinear)\n",
    "Finite Volume: phi_h is constant function\n",
    "\n",
    "subsection, limitting. exp has shown that limitting based on char. decomp is superior. Explain what that is doing (that: decomp)\n",
    "\n",
    "Close after section 5 -> numerical method section(spatial, time (up to eq13), limiters, how does char limtiting work)\n",
    "\n",
    "---\n",
    "\n",
    "##### Eigenvectors\n",
    "\n",
    "Font:1998\n",
    "Conserved = $(\\rho, S, E, D)$\n",
    "primitive = $(\\rho, v, \\epsilon, y_e)$\n",
    "du/dp d(conserved)/d(primitive)\n",
    "aF/aP: "
   ]
  },
  {
   "cell_type": "code",
   "execution_count": null,
   "metadata": {},
   "outputs": [],
   "source": []
  }
 ],
 "metadata": {
  "kernelspec": {
   "display_name": "Python 3",
   "language": "python",
   "name": "python3"
  },
  "language_info": {
   "codemirror_mode": {
    "name": "ipython",
    "version": 3
   },
   "file_extension": ".py",
   "mimetype": "text/x-python",
   "name": "python",
   "nbconvert_exporter": "python",
   "pygments_lexer": "ipython3",
   "version": "3.6.7"
  }
 },
 "nbformat": 4,
 "nbformat_minor": 2
}
