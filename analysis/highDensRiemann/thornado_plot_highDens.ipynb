{
 "cells": [
  {
   "cell_type": "markdown",
   "metadata": {},
   "source": [
    "### Plot _thornado_ data"
   ]
  },
  {
   "cell_type": "markdown",
   "metadata": {},
   "source": [
    "Notebook for quick plotting of 1D _thornado_ data. \n",
    "\n",
    "---\n",
    "\n",
    "To Do:  \n",
    "\n",
    "* Make it easier to select what to plot. Currently: Very Manual \n",
    "* Want easier use for data from multiple runs"
   ]
  },
  {
   "cell_type": "code",
   "execution_count": 9,
   "metadata": {},
   "outputs": [],
   "source": [
    "import h5py    \n",
    "import numpy as np  \n",
    "import matplotlib as mpl\n",
    "import matplotlib.pyplot as plt\n",
    "%matplotlib ipympl"
   ]
  },
  {
   "cell_type": "code",
   "execution_count": 2,
   "metadata": {},
   "outputs": [],
   "source": [
    "mpl.rcParams['lines.linewidth'] = 4\n",
    "mpl.rcParams['legend.handlelength']=4\n",
    "mpl.rcParams['legend.fontsize']=14\n",
    "mpl.rcParams['legend.frameon']=False\n",
    "mpl.rcParams['axes.labelsize']=18\n",
    "mpl.rcParams['xtick.minor.visible']=True\n",
    "mpl.rcParams['ytick.minor.visible']=True\n",
    "mpl.rcParams['axes.linewidth'] = 2\n",
    "mpl.rcParams['xtick.major.width'] = 2\n",
    "mpl.rcParams['ytick.major.width'] = 2\n",
    "mpl.rcParams['xtick.minor.width'] = 2\n",
    "mpl.rcParams['ytick.minor.width'] = 2\n",
    "mpl.rcParams['xtick.labelsize']   = 14\n",
    "mpl.rcParams['ytick.labelsize']   = 14"
   ]
  },
  {
   "cell_type": "markdown",
   "metadata": {},
   "source": [
    "Data Directory. Simply change `simName` to the desired simulation. Later will likely have to modify."
   ]
  },
  {
   "cell_type": "code",
   "execution_count": 3,
   "metadata": {},
   "outputs": [],
   "source": [
    "simName = \"Sod\"\n",
    "simType = \"nuclear\" #Currently: \"ideal\" or \"nuclear\"\n",
    "sim = \"highDens\" #The desired run\n",
    "sim_cw  = \"highDens_cw\"\n",
    "sim_ref = \"highDens_reference\"\n",
    "\n",
    "#sim_an = \"analytic_nNodes1\" #Analytic, for comparison\n",
    "fields = [ 'uAF_P', 'uAF_Ye', 'uPF_V1', 'uCF_D', 'uCF_Ne' ]\n",
    "\n",
    "dataDir = \"../../data/\" + simName + \"/\" + simType + \"/\" + sim\n",
    "dataDir_cw = \"../../data/\" + simName + \"/\" + simType + \"/\" + sim_cw \n",
    "dataDir_ref = \"../../data/\" + simName + \"/\" + simType + \"/\" + sim_ref \n"
   ]
  },
  {
   "cell_type": "markdown",
   "metadata": {},
   "source": [
    "Setup figure directory"
   ]
  },
  {
   "cell_type": "code",
   "execution_count": 4,
   "metadata": {},
   "outputs": [],
   "source": [
    "figDir = \"../figures/\""
   ]
  },
  {
   "cell_type": "markdown",
   "metadata": {},
   "source": [
    "For now, manually specify the `fileNumber`. Possibly add in ways to automatically get the max."
   ]
  },
  {
   "cell_type": "code",
   "execution_count": 5,
   "metadata": {},
   "outputs": [],
   "source": [
    "fileNumber = \"000300\"\n",
    "#fileName = dataDir + '/' + simName + '_FluidFields_' + fileNumber + '.h5' \n",
    "fileName = dataDir + '/' + 'RiemannProblem' + '_FluidFields_' + fileNumber + '.h5' \n",
    "fileName_cw  = dataDir_cw + '/' + 'RiemannProblem' + '_FluidFields_' + fileNumber + '.h5'\n",
    "fileName_ref  = dataDir_ref + '/' + 'RiemannProblem' + '_FluidFields_' + fileNumber + '.h5'\n",
    "\n",
    "mb = 1.660539 * pow(10,-24)"
   ]
  },
  {
   "cell_type": "markdown",
   "metadata": {},
   "source": [
    "Read the Data"
   ]
  },
  {
   "cell_type": "code",
   "execution_count": 6,
   "metadata": {},
   "outputs": [
    {
     "name": "stdout",
     "output_type": "stream",
     "text": [
      "Fluid Fields\n",
      "Shock Detector\n",
      "Spatial Grid\n",
      "Time\n",
      "Time: 0.075 ms\n",
      "Fluid Fields\n",
      "Shock Detector\n",
      "Spatial Grid\n",
      "Time\n",
      "Time: 0.075 ms\n",
      "Fluid Fields\n",
      "Shock Detector\n",
      "Spatial Grid\n",
      "Time\n",
      "Time: 0.07475000000000007 ms\n"
     ]
    }
   ],
   "source": [
    "with h5py.File(fileName, 'r') as f:\n",
    "    for key in f.keys():\n",
    "        print(key)\n",
    "    \n",
    "    time = f['Time'][:]\n",
    "\n",
    "    x1 = f['/Spatial Grid/X1'][:]\n",
    "    \n",
    "    uAF_P  = f['/Fluid Fields/Auxiliary/Pressure'][:]\n",
    "    uAF_Ye = f['/Fluid Fields/Auxiliary/Electron Fraction'][:]\n",
    "    \n",
    "    uPF_V1 = f['/Fluid Fields/Primitive/Three-Velocity (1)' ][:]\n",
    "    \n",
    "    uCF_D = f['/Fluid Fields/Conserved/Conserved Baryon Density'][:]\n",
    "    uCF_Ne = f['/Fluid Fields/Conserved/Conserved Electron Density'][:]\n",
    "    \n",
    "    data = {}\n",
    "    data['x1'] = x1[:]\n",
    "    data[fields[0]] = uAF_P[0][0][:]\n",
    "    data[fields[1]] = mb * uCF_Ne[0][0][:] / uCF_D[0][0][:]#uAF_Ye[0][0][:]\n",
    "    data[fields[2]] = uPF_V1[0][0][:]\n",
    "    data[fields[3]] = uCF_D[0][0][:]\n",
    "    data[fields[4]] = uCF_Ne[0][0][:]  \n",
    "    \n",
    "    print(\"Time:\", float(time), \"ms\")\n",
    "    \n",
    "### With componentwise limiting    \n",
    "with h5py.File(fileName_cw, 'r') as f:\n",
    "    for key in f.keys():\n",
    "        print(key)\n",
    "    \n",
    "    time = f['Time'][:]\n",
    "\n",
    "    x1_cw = f['/Spatial Grid/X1'][:]\n",
    "    x2 = f['/Spatial Grid/X2'][:]\n",
    "    x3 = f['/Spatial Grid/X3'][:]\n",
    "    \n",
    "    uAF_P_cw  = f['/Fluid Fields/Auxiliary/Pressure'][:]\n",
    "    uAF_T_cw = f['/Fluid Fields/Auxiliary/Temperature'][:]\n",
    "    uAF_Ye_cw = f['/Fluid Fields/Auxiliary/Electron Fraction'][:]\n",
    "    \n",
    "    uPF_V1_cw  = f['/Fluid Fields/Primitive/Three-Velocity (1)' ][:]\n",
    "    \n",
    "    uCF_D_cw  = f['/Fluid Fields/Conserved/Conserved Baryon Density'][:]\n",
    "    uCF_Ne_cw  = f['/Fluid Fields/Conserved/Conserved Electron Density'][:]\n",
    "    \n",
    "    print(\"Time:\", float(time), \"ms\")   \n",
    "              \n",
    "    data_cw = {}\n",
    "    data_cw['x1'] = x1[:]\n",
    "    data_cw[fields[0]] = uAF_P_cw[0][0][:]\n",
    "    data_cw[fields[1]] = mb * uCF_Ne_cw[0][0][:] / uCF_D_cw[0][0][:]#uAF_Ye[0][0][:]\n",
    "    data_cw[fields[2]] = uPF_V1_cw[0][0][:]\n",
    "    data_cw[fields[3]] = uCF_D_cw[0][0][:]\n",
    "    data_cw[fields[4]] = uCF_Ne_cw[0][0][:]          \n",
    "    \n",
    "### With componentwise limiting    \n",
    "with h5py.File(fileName_ref, 'r') as f:\n",
    "    for key in f.keys():\n",
    "        print(key)\n",
    "    \n",
    "    time = f['Time'][:]\n",
    "\n",
    "    x1_ref = f['/Spatial Grid/X1'][:]\n",
    "    \n",
    "    uAF_P_ref  = f['/Fluid Fields/Auxiliary/Pressure'][:]\n",
    "    uAF_Ye_ref = f['/Fluid Fields/Auxiliary/Electron Fraction'][:]\n",
    "    \n",
    "    uPF_V1_ref  = f['/Fluid Fields/Primitive/Three-Velocity (1)' ][:]\n",
    "    \n",
    "    uCF_D_ref  = f['/Fluid Fields/Conserved/Conserved Baryon Density'][:]\n",
    "    uCF_Ne_ref  = f['/Fluid Fields/Conserved/Conserved Electron Density'][:]\n",
    "    \n",
    "    print(\"Time:\", float(time), \"ms\")   \n",
    "              \n",
    "    data_ref = {}\n",
    "    data_ref['x1'] = x1_ref[:]\n",
    "    data_ref[fields[0]] = uAF_P_ref[0][0][:]\n",
    "    data_ref[fields[1]] = mb * uCF_Ne_ref[0][0][:] / uCF_D_ref[0][0][:]#uAF_Ye[0][0][:]\n",
    "    data_ref[fields[2]] = uPF_V1_ref[0][0][:]\n",
    "    data_ref[fields[3]] = uCF_D_ref[0][0][:]\n",
    "    data_ref[fields[4]] = uCF_Ne_ref[0][0][:]   "
   ]
  },
  {
   "cell_type": "markdown",
   "metadata": {},
   "source": [
    "Read the desired fields into a python dictionary."
   ]
  },
  {
   "cell_type": "markdown",
   "metadata": {},
   "source": [
    "Compute Cell Averages"
   ]
  },
  {
   "cell_type": "code",
   "execution_count": 7,
   "metadata": {},
   "outputs": [],
   "source": [
    "nNodes = 3\n",
    "wG = [ 5.0/(1*18.0), 8.0/(1*18.0), 5.0/(1*18.0) ]\n",
    "N_N = len(x1)\n",
    "\n",
    "N_K = N_N / nNodes\n",
    "\n",
    "data_avg = {}    \n",
    "data_avg['x1'] = np.zeros(int(N_K))\n",
    "for i in range(len(fields)):\n",
    "    data_avg[fields[i]] = np.zeros(int(N_K))        \n",
    "    for j in range(int(N_K)):\n",
    "        data_avg['x1'][j] = (np.sum( wG * data['x1'][(j)*nNodes:(j+1)*nNodes] ))\n",
    "        data_avg[fields[i]][j] = np.sum( wG * data[fields[i]][(j)*nNodes:(j+1)*nNodes] )  \n",
    "        \n",
    "data_cw_avg = {}    \n",
    "data_cw_avg['x1'] = np.zeros(int(N_K))\n",
    "for i in range(len(fields)):\n",
    "    data_cw_avg[fields[i]] = np.zeros(int(N_K))      \n",
    "    for j in range(int(N_K)):\n",
    "        data_cw_avg['x1'][j] = (np.sum( wG * data_cw['x1'][(j)*nNodes:(j+1)*nNodes] ))\n",
    "        data_cw_avg[fields[i]][j] = np.sum( wG * data_cw[fields[i]][(j)*nNodes:(j+1)*nNodes] )   \n",
    "        \n",
    "data_ref_avg = {}    \n",
    "data_ref_avg['x1'] = np.zeros(int(N_K))\n",
    "for i in range(len(fields)):\n",
    "    data_cw_avg[fields[i]] = np.zeros(int(N_K))      \n",
    "    for j in range(int(N_K)):\n",
    "        data_cw_avg['x1'][j] = (np.sum( wG * data_cw['x1'][(j)*nNodes:(j+1)*nNodes] ))\n",
    "        data_cw_avg[fields[i]][j] = np.sum( wG * data_cw[fields[i]][(j)*nNodes:(j+1)*nNodes] )       "
   ]
  },
  {
   "cell_type": "code",
   "execution_count": null,
   "metadata": {},
   "outputs": [],
   "source": []
  },
  {
   "cell_type": "markdown",
   "metadata": {},
   "source": [
    "Plot! "
   ]
  },
  {
   "cell_type": "code",
   "execution_count": 22,
   "metadata": {},
   "outputs": [
    {
     "data": {
      "application/vnd.jupyter.widget-view+json": {
       "model_id": "ca887ac1039241de93512b6151f9e3c9",
       "version_major": 2,
       "version_minor": 0
      },
      "text/plain": [
       "FigureCanvasNbAgg()"
      ]
     },
     "metadata": {},
     "output_type": "display_data"
    },
    {
     "data": {
      "text/plain": [
       "<matplotlib.legend.Legend at 0x124629ef0>"
      ]
     },
     "execution_count": 22,
     "metadata": {},
     "output_type": "execute_result"
    }
   ],
   "source": [
    "fig, cax = plt.subplots(2,2, sharex=False,figsize=(12,12))\n",
    "fig.subplots_adjust(hspace=.2, wspace=0.4)\n",
    "# ---\n",
    "cax[0,0].plot(data_cw_avg['x1'], data_cw_avg['uCF_D'], label=\"Componentwise Limiting\",marker=\"+\",color=\"red\")\n",
    "cax[0,0].plot(data_avg['x1'],data_avg['uCF_D'],marker='x',color='blue',label=r\"$\\beta_{TVD} = 1.2, C_{TCI}=0.1$\")\n",
    "cax[0,0].plot(x1_ref,data_ref['uCF_D'], linestyle='-',linewidth='2.0', label=\"Reference\", color = \"black\")\n",
    "cax[0,0].set(xlabel=\"x [km]\",ylabel = r'Density [g/cm$^3$]')\n",
    "#cax[0,0].set_title(\"Sod Shock Tube (t = 0.025ms)\")\n",
    "# ---\n",
    "\n",
    "cax[0,1].plot(data_cw_avg['x1'], data_cw_avg['uAF_P'], label=\"Componentwise Limiting\",marker=\"+\",color=\"red\")\n",
    "cax[0,1].plot(data_avg['x1'],data_avg['uAF_P'],marker='x',color='blue',label=r\"$\\beta_{TVD} = 1.2, C_{TCI}=0.1$\")\n",
    "cax[0,1].plot(x1_ref,data_ref['uAF_P'], linestyle='-',linewidth='2.0', label=\"Reference\", color = \"black\")\n",
    "cax[0,1].set(xlabel=\"x [km]\",ylabel = r'Pressure [erg/cm$^3$]')\n",
    "# --- \n",
    "# generate 2 2d grids for the x & y bounds\n",
    "\n",
    "cax[1,0].plot(data_cw_avg['x1'], data_cw_avg['uPF_V1']/(10**5), label=\"Componentwise Limiting\",marker=\"+\",color=\"red\")\n",
    "cax[1,0].plot(data_avg['x1'],data_avg['uPF_V1']/(10**5),marker='x',color='blue',label=r\"$\\beta_{TVD} = 1.2, C_{TCI}=0.1$\")\n",
    "cax[1,0].plot(x1_ref,data_ref['uPF_V1']/(10**5), linestyle='-',linewidth='2.0', label=\"Reference\", color = \"black\")\n",
    "cax[1,0].set(xlabel=\"x [km]\",ylabel = r'Velocity [$10^{5}$ km/s]')\n",
    "# ---\n",
    "cax[1,1].plot(data_cw_avg['x1'], data_cw_avg['uAF_Ye'], label=\"Componentwise Limiting\",marker=\"+\",color=\"red\")\n",
    "cax[1,1].plot(data_avg['x1'],data_avg['uAF_Ye'],marker='x',color='blue',label=r\"$\\beta_{TVD} = 1.2, C_{TCI}=0.1$\")\n",
    "cax[1,1].plot(x1_ref,data_ref['uAF_Ye'], linestyle='-',linewidth='2.0', label=\"Reference\", color = \"black\")\n",
    "cax[1,1].set(xlabel=\"x [km]\",ylabel = r'Electron Fraction')\n",
    "#cax[1,1].yaxis.tick_right()\n",
    "#cax[1,1].yaxis.set_label_position(\"right\")\n",
    "\n",
    "from mpl_toolkits.axes_grid1.inset_locator import zoomed_inset_axes\n",
    "axins = zoomed_inset_axes(cax[1,1], 2.5, loc=3) # zoom-factor: 2.5, location: upper-left\n",
    "axins.plot(data_cw_avg['x1'], data_cw_avg['uAF_Ye'], label=\"Componentwise Limiting\",marker=\"+\",color=\"red\")\n",
    "axins.plot(data_avg['x1'],data_avg['uAF_Ye'],marker='x',color='blue',label=r\"$\\beta_{TVD} = 1.2, C_{TCI}=0.1$\")\n",
    "axins.plot(x1_ref,data_ref['uAF_Ye'], linestyle='-',linewidth='2.0', label=\"Reference\", color = \"black\")\n",
    "x1, x2, y1, y2 = 1.15, 2.5, 0.148, 0.1515 # specify the limits\n",
    "axins.set_xlim(x1, x2) # apply the x-limits\n",
    "axins.set_ylim(y1, y2) # apply the y-limits\n",
    "\n",
    "axins.xaxis.set_visible(False)\n",
    "axins.yaxis.set_visible(False)\n",
    "\n",
    "from mpl_toolkits.axes_grid1.inset_locator import mark_inset\n",
    "mark_inset(cax[1,1], axins, loc1=2, loc2=1, fc=\"none\", ec=\"0.5\")\n",
    "\n",
    "axins2 = zoomed_inset_axes(cax[1,1], 2.5, loc=1) # zoom-factor: 2.5, location: upper-left\n",
    "axins2.plot(data_cw_avg['x1'], data_cw_avg['uAF_Ye'], label=\"Componentwise Limiting\",marker=\"+\",color=\"red\")\n",
    "axins2.plot(data_avg['x1'],data_avg['uAF_Ye'],marker='x',color='blue',label=r\"$\\beta_{TVD} = 1.2, C_{TCI}=0.1$\")\n",
    "axins2.plot(x1_ref,data_ref['uAF_Ye'], linestyle='-',linewidth='2.0', label=\"Reference\", color = \"black\")\n",
    "x1, x2, y1, y2 = 2.0, 3.0, 0.1335, 0.136 # specify the limits\n",
    "axins2.set_xlim(x1, x2) # apply the x-limits\n",
    "axins2.set_ylim(y1, y2) # apply the y-limits\n",
    "\n",
    "axins2.xaxis.set_visible(False)\n",
    "axins2.yaxis.set_visible(False)\n",
    "\n",
    "from mpl_toolkits.axes_grid1.inset_locator import mark_inset\n",
    "mark_inset(cax[1,1], axins2, loc1=2, loc2=4, fc=\"none\", ec=\"0.5\")\n",
    "\n",
    "handles, labels = cax[0,0].get_legend_handles_labels()\n",
    "fig.legend(handles, labels, loc='upper center')\n",
    "\n",
    "#plt.savefig('../figures/highDens.png', dpi=200, bbox_inches='tight')"
   ]
  },
  {
   "cell_type": "code",
   "execution_count": null,
   "metadata": {},
   "outputs": [],
   "source": []
  }
 ],
 "metadata": {
  "kernelspec": {
   "display_name": "Python 3",
   "language": "python",
   "name": "python3"
  },
  "language_info": {
   "codemirror_mode": {
    "name": "ipython",
    "version": 3
   },
   "file_extension": ".py",
   "mimetype": "text/x-python",
   "name": "python",
   "nbconvert_exporter": "python",
   "pygments_lexer": "ipython3",
   "version": "3.6.8"
  }
 },
 "nbformat": 4,
 "nbformat_minor": 2
}
