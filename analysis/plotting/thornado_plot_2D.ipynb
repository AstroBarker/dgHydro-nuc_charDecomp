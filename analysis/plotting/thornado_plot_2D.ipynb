{
 "cells": [
  {
   "cell_type": "markdown",
   "metadata": {},
   "source": [
    "### Plot _thornado_ data"
   ]
  },
  {
   "cell_type": "markdown",
   "metadata": {},
   "source": [
    "Notebook for quick plotting of 2D _thornado_ data. \n",
    "\n",
    "---\n",
    "\n",
    "To Do: Make it easier to select what to plot. Currently: Veyr Manual"
   ]
  },
  {
   "cell_type": "code",
   "execution_count": 1,
   "metadata": {},
   "outputs": [],
   "source": [
    "import h5py    \n",
    "import numpy as np  \n",
    "import matplotlib.pyplot as plt"
   ]
  },
  {
   "cell_type": "markdown",
   "metadata": {},
   "source": [
    "Data Directory. Simply change `simName` to the desired simulation. Later will likely have to modify."
   ]
  },
  {
   "cell_type": "code",
   "execution_count": 2,
   "metadata": {},
   "outputs": [],
   "source": [
    "simName = \"Implosion\"\n",
    "dataDir = \"../../data/\"+simName"
   ]
  },
  {
   "cell_type": "markdown",
   "metadata": {},
   "source": [
    "For now, manually specify the `fileNumber`. Possibly add in ways to automatically get the max."
   ]
  },
  {
   "cell_type": "code",
   "execution_count": 9,
   "metadata": {},
   "outputs": [],
   "source": [
    "fileNumber = \"000009\"\n",
    "fileName = dataDir + '/' + simName + '_FluidFields_' + fileNumber + '.h5' "
   ]
  },
  {
   "cell_type": "markdown",
   "metadata": {},
   "source": [
    "Read the Data"
   ]
  },
  {
   "cell_type": "code",
   "execution_count": 10,
   "metadata": {},
   "outputs": [
    {
     "name": "stdout",
     "output_type": "stream",
     "text": [
      "Fluid Fields\n",
      "Shock Detector\n",
      "Spatial Grid\n",
      "Time\n"
     ]
    }
   ],
   "source": [
    "with h5py.File(fileName, 'r') as f:\n",
    "    for key in f.keys():\n",
    "        print(key)\n",
    "    \n",
    "    time = f['Time'][:]\n",
    "    x1 = f['/Spatial Grid/X1'][:]\n",
    "    x2 = f['/Spatial Grid/X2'][:]\n",
    "    x3 = f['/Spatial Grid/X3'][:]\n",
    "    \n",
    "    uAF_P  = f['/Fluid Fields/Auxiliary/Pressure'][:]\n",
    "    uAF_T  = f['/Fluid Fields/Auxiliary/Temperature'][:]\n",
    "    uAF_Ye = f['/Fluid Fields/Auxiliary/Electron Fraction'][:]\n",
    "    uAF_S  = f['/Fluid Fields/Auxiliary/Entropy Per Baryon'][:]\n",
    "    uAF_E  = f['/Fluid Fields/Auxiliary/Specific Internal Energy'][:]\n",
    "    uAF_Me = f['/Fluid Fields/Auxiliary/Electron Chemical Potential'][:]\n",
    "    uAF_Mp = f['/Fluid Fields/Auxiliary/Proton Chemical Potential'][:]\n",
    "    uAF_Mn = f['/Fluid Fields/Auxiliary/Neutron Chemical Potential'][:]\n",
    "    uAF_Yp = f['/Fluid Fields/Auxiliary/Proton Mass Fraction'][:]\n",
    "    uAF_Yn = f['/Fluid Fields/Auxiliary/Neutron Mass Fraction'][:]\n",
    "    uAF_Ya = f['/Fluid Fields/Auxiliary/Alpha Mass Fraction'][:]\n",
    "    uAF_Yh = f['/Fluid Fields/Auxiliary/Heavy Mass Fraction'][:]\n",
    "    uAF_Gm = f['/Fluid Fields/Auxiliary/Ratio of Specific Heats (Gamma)'][:]\n",
    "    uAF_Cs = f['/Fluid Fields/Auxiliary/Sound Speed'][:]"
   ]
  },
  {
   "cell_type": "markdown",
   "metadata": {},
   "source": [
    "Read the desired field into a numpy array."
   ]
  },
  {
   "cell_type": "code",
   "execution_count": 11,
   "metadata": {},
   "outputs": [
    {
     "name": "stdout",
     "output_type": "stream",
     "text": [
      "[0.0405]\n"
     ]
    }
   ],
   "source": [
    "data = np.zeros( (len(x1), len(x1)) )\n",
    "print(time)\n",
    "for i in range(0,768):\n",
    "    for j in range(0,768):\n",
    "        #data[i,j] = [ x1[i], x2[j], uAF_P[0][i][j] ]\n",
    "        data[i,j] = uAF_P[0][i][j]"
   ]
  },
  {
   "cell_type": "markdown",
   "metadata": {},
   "source": [
    "Plot!"
   ]
  },
  {
   "cell_type": "code",
   "execution_count": 12,
   "metadata": {},
   "outputs": [
    {
     "data": {
      "image/png": "[encoded data removed]",
      "text/plain": [
       "<Figure size 432x288 with 2 Axes>"
      ]
     },
     "metadata": {
      "needs_background": "light"
     },
     "output_type": "display_data"
    }
   ],
   "source": [
    "# generate 2 2d grids for the x & y bounds\n",
    "y, x = np.meshgrid(x1, x2)\n",
    "\n",
    "\n",
    "\n",
    "fig, ax = plt.subplots()\n",
    "\n",
    "#vmin and vmax set the bounds of the colorbar\n",
    "c = ax.pcolormesh(x, y, data, cmap='jet', vmin=0, vmax=1)\n",
    "ax.set_title('Implosion')\n",
    "ax.set_xlabel('x [m]')\n",
    "ax.set_ylabel('y [m]')\n",
    "\n",
    "# set the limits of the plot to the limits of the data\n",
    "ax.axis([x.min(), x.max(), y.min(), y.max()])\n",
    "fig.colorbar(c, ax=ax)\n",
    "\n",
    "plt.show()"
   ]
  },
  {
   "cell_type": "code",
   "execution_count": null,
   "metadata": {},
   "outputs": [],
   "source": []
  },
  {
   "cell_type": "code",
   "execution_count": null,
   "metadata": {},
   "outputs": [],
   "source": []
  }
 ],
 "metadata": {
  "kernelspec": {
   "display_name": "Python 3",
   "language": "python",
   "name": "python3"
  },
  "language_info": {
   "codemirror_mode": {
    "name": "ipython",
    "version": 3
   },
   "file_extension": ".py",
   "mimetype": "text/x-python",
   "name": "python",
   "nbconvert_exporter": "python",
   "pygments_lexer": "ipython3",
   "version": "3.6.7"
  }
 },
 "nbformat": 4,
 "nbformat_minor": 2
}
