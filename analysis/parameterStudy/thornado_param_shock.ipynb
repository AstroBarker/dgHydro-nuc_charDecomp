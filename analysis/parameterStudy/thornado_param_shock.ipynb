{
 "cells": [
  {
   "cell_type": "markdown",
   "metadata": {},
   "source": [
    "### Plot _thornado_  shock detector data"
   ]
  },
  {
   "cell_type": "markdown",
   "metadata": {},
   "source": [
    "Notebook for quick plotting of 1D _thornado_ shock detector data for the limter parameter study. \n",
    "\n",
    "---\n",
    "\n",
    "Action Items:\n",
    "0. ~~Redo data structure: consider Python dictionary, `data['run']['field']`~~\n",
    "\n",
    "1. ~~Compute and Plot Cell Averages~~\n",
    "    \n",
    "2. ~~Finish Runs~~ \n",
    "\n",
    "3. ~~Create Error Function~~\n",
    "\n",
    "4. ~~Create Total Varaition Calculation~~\n",
    "\n",
    "5. ~~Create Tables~~\n",
    "   \n",
    "6. Do another componentwise limiting run   \n",
    "\n",
    "7. **Shock Detector**\n",
    "\n",
    "8. Compare Winner (2.0, 0.2) to Componentwise. Same parameters. **CW is crashing**\n",
    "---\n",
    "To Do (Functional):  \n",
    "\n",
    "* Make it easier to select what to plot. Currently: Very Manual \n",
    "* Want easier use for data from multiple runs\n",
    "* Combine reading of data and creating data structures into one loop\n",
    "---"
   ]
  },
  {
   "cell_type": "code",
   "execution_count": 1,
   "metadata": {},
   "outputs": [],
   "source": [
    "import h5py    \n",
    "import numpy as np  \n",
    "import matplotlib as mpl\n",
    "import matplotlib.pyplot as plt\n",
    "from scipy.interpolate import interp1d\n",
    "%matplotlib ipympl"
   ]
  },
  {
   "cell_type": "markdown",
   "metadata": {},
   "source": [
    "Some global plotting options"
   ]
  },
  {
   "cell_type": "code",
   "execution_count": 2,
   "metadata": {},
   "outputs": [],
   "source": [
    "mpl.rcParams['lines.linewidth'] = 4\n",
    "mpl.rcParams['legend.handlelength']=4\n",
    "mpl.rcParams['legend.fontsize']=14\n",
    "mpl.rcParams['legend.frameon']=False\n",
    "mpl.rcParams['axes.labelsize']=20\n",
    "mpl.rcParams['xtick.minor.visible']=True\n",
    "mpl.rcParams['ytick.minor.visible']=True\n",
    "mpl.rcParams['axes.linewidth'] = 2\n",
    "mpl.rcParams['xtick.major.width'] = 2\n",
    "mpl.rcParams['ytick.major.width'] = 2\n",
    "mpl.rcParams['xtick.minor.width'] = 2\n",
    "mpl.rcParams['ytick.minor.width'] = 2\n",
    "mpl.rcParams['xtick.labelsize']   = 14\n",
    "mpl.rcParams['ytick.labelsize']   = 14"
   ]
  },
  {
   "cell_type": "markdown",
   "metadata": {},
   "source": [
    "Data Directory. Simply change `simName` to the desired simulation. Later will likely have to modify."
   ]
  },
  {
   "cell_type": "code",
   "execution_count": 3,
   "metadata": {},
   "outputs": [],
   "source": [
    "sims = [\"100_B1.0_C0.0_3\", \"100_B1.0_C1.5E-2_3\", \"100_B1.0_C5E-2_3\", \"100_B1.0_C1.0E-1_3\",\n",
    "        \"100_B1.5_C0.0_3\", \"100_B1.5_C1.5E-2_3\", \"100_B1.5_C5E-2_3\",\"100_B1.5_C1.0E-1_3\",\n",
    "        \"100_B1.75_C0.0_3\", \"100_B1.75_C1.5E-2_3\", \"100_B1.75_C5E-2_3\",\"100_B1.75_C1.0E-1_3\",\n",
    "        \"100_B2.0_C0.0_3\", \"100_B2.0_C1.5E-2_3\", \"100_B2.0_C5E-2_3\", \"100_B2.0_C1.0E-1_3\"] #The desired run\n",
    "\n",
    "#fields = [ 'uAF_P', 'uAF_Ye', 'uPF_V1', 'uCF_D', 'uCF_Ne' ]\n",
    "dataDirs = []#np.zeros( len(sims) )\n",
    "for i in range( len( sims) ):\n",
    "    dataDirs.append(\"../../data/Sod/nuclear/paramStudy\" + \"/\" + sims[i])\n",
    "dataDir_ref = \"../../data/Sod/nuclear/reference\""
   ]
  },
  {
   "cell_type": "markdown",
   "metadata": {},
   "source": [
    "Setup figure directory"
   ]
  },
  {
   "cell_type": "code",
   "execution_count": 4,
   "metadata": {},
   "outputs": [],
   "source": [
    "figDir = \"../figures/\""
   ]
  },
  {
   "cell_type": "markdown",
   "metadata": {},
   "source": [
    "For now, manually specify the `fileNumber`. Possibly add in ways to automatically get the max."
   ]
  },
  {
   "cell_type": "code",
   "execution_count": 5,
   "metadata": {},
   "outputs": [],
   "source": [
    "fileNumberF = 102 #final\n",
    "#fileName = dataDir + '/' + simName + '_FluidFields_' + fileNumber + '.h5' \n",
    "fileNames = []\n",
    "#for i in range( len( sims) ): #For now, just use the 'winner'\n",
    "for i in range(10):\n",
    "    fileNames.append(dataDirs[11] + '/' + 'RiemannProblem' + '_FluidFields_00000' + str(i) + '.h5' )\n",
    "for i in range(10,100):\n",
    "    fileNames.append(dataDirs[11] + '/' + 'RiemannProblem' + '_FluidFields_0000' + str(i) + '.h5' )\n",
    "    \n",
    "for i in range(100,fileNumberF+1):\n",
    "    fileNames.append(dataDirs[11] + '/' + 'RiemannProblem' + '_FluidFields_000' + str(i) + '.h5' )\n",
    "    \n"
   ]
  },
  {
   "cell_type": "markdown",
   "metadata": {},
   "source": [
    "Read the Data and load into a python dict"
   ]
  },
  {
   "cell_type": "code",
   "execution_count": 6,
   "metadata": {},
   "outputs": [],
   "source": [
    "#data = np.zeros((fileNumberF-2,100)) # Point Values\n",
    "data = np.zeros((fileNumberF+1,100)) # Point Values\n",
    "time = {}\n",
    "# for i in range( 2,len( fileNames ) ):\n",
    "for i in range(len( fileNames ) ):\n",
    "    \n",
    "    with h5py.File(fileNames[i], 'r') as f:\n",
    "        \n",
    "#         for key in f.keys():\n",
    "#             print(key)\n",
    "\n",
    "        time_in = f['Time'][:]\n",
    "        time[i] = time_in[0]\n",
    "\n",
    "        x1 = f['/Spatial Grid/X1'][:]\n",
    "        \n",
    "        shock = f['/Shock Detector/Shock'][:]\n",
    "        \n",
    "\n",
    "       # print(\"Time:\", float(time), \"ms\")\n",
    "        x1 = x1[:]\n",
    "        data[i] = shock[:]\n",
    "\n",
    "      "
   ]
  },
  {
   "cell_type": "code",
   "execution_count": 7,
   "metadata": {},
   "outputs": [
    {
     "data": {
      "text/plain": [
       "<matplotlib.image.AxesImage at 0xb1ca2da58>"
      ]
     },
     "execution_count": 7,
     "metadata": {},
     "output_type": "execute_result"
    },
    {
     "data": {
      "image/png": "[encoded data removed]",
      "text/plain": [
       "<Figure size 648x648 with 1 Axes>"
      ]
     },
     "metadata": {
      "needs_background": "light"
     },
     "output_type": "display_data"
    }
   ],
   "source": [
    "x = np.linspace(-5,5,100)\n",
    "fig, ax1 = plt.subplots(1,figsize=(9,9))\n",
    "\n",
    "ax1.imshow(data)"
   ]
  },
  {
   "cell_type": "markdown",
   "metadata": {},
   "source": [
    "Plot"
   ]
  },
  {
   "cell_type": "code",
   "execution_count": 8,
   "metadata": {},
   "outputs": [
    {
     "data": {
      "text/plain": [
       "[-5.0, 5.0, 0.0, 0.025]"
      ]
     },
     "execution_count": 8,
     "metadata": {},
     "output_type": "execute_result"
    },
    {
     "data": {
      "image/png": "[encoded data removed]",
      "text/plain": [
       "<Figure size 360x288 with 1 Axes>"
      ]
     },
     "metadata": {
      "needs_background": "light"
     },
     "output_type": "display_data"
    }
   ],
   "source": [
    "# generate 2 2d grids for the x & y bounds\n",
    "xp = np.linspace(-5,5,100)\n",
    "tp = np.linspace(0,0.025,103)\n",
    "x, y = np.meshgrid(xp, tp)\n",
    "\n",
    "\n",
    "\n",
    "fig, ax = plt.subplots(figsize=(5,4))\n",
    "\n",
    "#vmin and vmax set the bounds of the colorbar\n",
    "clims = [ 0.0300, 0.0301 ];\n",
    "c = ax.pcolormesh(x, y, data,cmap=\"Greys\", vmin = 0.03, vmax = 0.0301)\n",
    "ax.set_title(r'Troubled Cell Indicator, $C_{TCI}=0.2$')\n",
    "ax.set_xlabel('x [km]')\n",
    "ax.set_ylabel('t [ms]')\n",
    "#ax.cmap.set_under('whitesmoke')\n",
    "# set the limits of the plot to the limits of the data\n",
    "ax.axis([x.min(), x.max(), y.min(), y.max()])\n",
    "#fig.colorbar(c, ax=ax)\n"
   ]
  },
  {
   "cell_type": "code",
   "execution_count": null,
   "metadata": {},
   "outputs": [],
   "source": []
  }
 ],
 "metadata": {
  "kernelspec": {
   "display_name": "Python 3",
   "language": "python",
   "name": "python3"
  },
  "language_info": {
   "codemirror_mode": {
    "name": "ipython",
    "version": 3
   },
   "file_extension": ".py",
   "mimetype": "text/x-python",
   "name": "python",
   "nbconvert_exporter": "python",
   "pygments_lexer": "ipython3",
   "version": "3.6.8"
  }
 },
 "nbformat": 4,
 "nbformat_minor": 2
}
