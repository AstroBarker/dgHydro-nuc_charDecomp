{
 "cells": [
  {
   "cell_type": "markdown",
   "metadata": {},
   "source": [
    "### Plot _thornado_ data"
   ]
  },
  {
   "cell_type": "markdown",
   "metadata": {},
   "source": [
    "Notebook for quick plotting of 1D _thornado_ data for the limter parameter study. \n",
    "\n",
    "---\n",
    "\n",
    "Action Items:\n",
    "0. ~~Redo data structure: consider Python dictionary, `data['run']['field']`~~\n",
    "\n",
    "1. ~~Compute and Plot Cell Averages~~\n",
    "    \n",
    "2. ~~Finish Runs~~ \n",
    "\n",
    "3. ~~Create Error Function~~\n",
    "\n",
    "4. ~~Create Total Varaition Calculation~~\n",
    "\n",
    "5. ~~Create Tables~~\n",
    "   \n",
    "6. Do another componentwise limiting run   \n",
    "\n",
    "7. Shock Detector\n",
    "\n",
    "8. Compare Winner (2.0, 0.2) to Componentwise. Same parameters. **CW is crashing**\n",
    "---\n",
    "To Do (Functional):  \n",
    "\n",
    "* Make it easier to select what to plot. Currently: Very Manual \n",
    "* Want easier use for data from multiple runs\n",
    "* Combine reading of data and creating data structures into one loop\n",
    "---"
   ]
  },
  {
   "cell_type": "code",
   "execution_count": 2,
   "metadata": {},
   "outputs": [],
   "source": [
    "import h5py    \n",
    "import numpy as np  \n",
    "import matplotlib as mpl\n",
    "import matplotlib.pyplot as plt\n",
    "from scipy.interpolate import interp1d\n",
    "%matplotlib ipympl"
   ]
  },
  {
   "cell_type": "markdown",
   "metadata": {},
   "source": [
    "Some global plotting options"
   ]
  },
  {
   "cell_type": "code",
   "execution_count": 3,
   "metadata": {},
   "outputs": [],
   "source": [
    "mpl.rcParams['lines.linewidth'] = 4\n",
    "mpl.rcParams['legend.handlelength']=4\n",
    "mpl.rcParams['legend.fontsize']=14\n",
    "mpl.rcParams['legend.frameon']=False\n",
    "mpl.rcParams['axes.labelsize']=20\n",
    "mpl.rcParams['xtick.minor.visible']=True\n",
    "mpl.rcParams['ytick.minor.visible']=True\n",
    "mpl.rcParams['axes.linewidth'] = 2\n",
    "mpl.rcParams['xtick.major.width'] = 2\n",
    "mpl.rcParams['ytick.major.width'] = 2\n",
    "mpl.rcParams['xtick.minor.width'] = 2\n",
    "mpl.rcParams['ytick.minor.width'] = 2\n",
    "mpl.rcParams['xtick.labelsize']   = 14\n",
    "mpl.rcParams['ytick.labelsize']   = 14"
   ]
  },
  {
   "cell_type": "markdown",
   "metadata": {},
   "source": [
    "Data Directory. Simply change `simName` to the desired simulation. Later will likely have to modify."
   ]
  },
  {
   "cell_type": "code",
   "execution_count": 4,
   "metadata": {},
   "outputs": [],
   "source": [
    "sims = [\"100_B1.0_C0.0_3\", \"100_B1.0_C1.5E-2_3\", \"100_B1.0_C5E-2_3\", \"100_B1.0_C1.0E-1_3\",\n",
    "        \"100_B1.5_C0.0_3\", \"100_B1.5_C1.5E-2_3\", \"100_B1.5_C5E-2_3\",\"100_B1.5_C1.0E-1_3\",\n",
    "        \"100_B1.75_C0.0_3\", \"100_B1.75_C1.5E-2_3\", \"100_B1.75_C5E-2_3\",\"100_B1.75_C1.0E-1_3\",\n",
    "        \"100_B2.0_C0.0_3\", \"100_B2.0_C1.5E-2_3\", \"100_B2.0_C5E-2_3\", \"100_B2.0_C1.0E-1_3\"] #The desired run\n",
    "\n",
    "fields = [ 'uAF_P', 'uAF_Ye', 'uPF_V1', 'uCF_D', 'uCF_Ne' ]\n",
    "dataDirs = []#np.zeros( len(sims) )\n",
    "for i in range( len( sims) ):\n",
    "    dataDirs.append(\"../../data/Sod/nuclear/paramStudy\" + \"/\" + sims[i])\n",
    "dataDir_ref = \"../../data/Sod/nuclear/reference\""
   ]
  },
  {
   "cell_type": "markdown",
   "metadata": {},
   "source": [
    "Setup figure directory"
   ]
  },
  {
   "cell_type": "code",
   "execution_count": 5,
   "metadata": {},
   "outputs": [],
   "source": [
    "figDir = \"../figures/\""
   ]
  },
  {
   "cell_type": "markdown",
   "metadata": {},
   "source": [
    "For now, manually specify the `fileNumber`. Possibly add in ways to automatically get the max."
   ]
  },
  {
   "cell_type": "code",
   "execution_count": 6,
   "metadata": {},
   "outputs": [],
   "source": [
    "fileNumber = \"000102\"\n",
    "#fileName = dataDir + '/' + simName + '_FluidFields_' + fileNumber + '.h5' \n",
    "fileNames = []#np.zeros(len(sims))\n",
    "for i in range( len( sims) ):\n",
    "    fileNames.append(dataDirs[i] + '/' + 'RiemannProblem' + '_FluidFields_' + fileNumber + '.h5' )\n",
    "fileName_ref = dataDir_ref + '/' + 'RiemannProblem' + '_FluidFields_' + fileNumber + '.h5' \n",
    "\n",
    "mb = 1.660539 * pow(10,-24)"
   ]
  },
  {
   "cell_type": "markdown",
   "metadata": {},
   "source": [
    "Read the Data and load into a python dict"
   ]
  },
  {
   "cell_type": "code",
   "execution_count": 26,
   "metadata": {},
   "outputs": [
    {
     "name": "stdout",
     "output_type": "stream",
     "text": [
      "Fluid Fields\n",
      "Shock Detector\n",
      "Spatial Grid\n",
      "Time\n",
      "Time: 0.025 ms\n"
     ]
    }
   ],
   "source": [
    "data = {} # Point Values\n",
    "for i in range( len( sims ) ):\n",
    "    \n",
    "    with h5py.File(fileNames[i], 'r') as f:\n",
    "        \n",
    "#         for key in f.keys():\n",
    "#             print(key)\n",
    "\n",
    "        time = f['Time'][:]\n",
    "\n",
    "        x1 = f['/Spatial Grid/X1'][:]\n",
    "\n",
    "        uAF_P  = f['/Fluid Fields/Auxiliary/Pressure'][:]\n",
    "        uAF_Ye = f['/Fluid Fields/Auxiliary/Electron Fraction'][:]\n",
    "\n",
    "        uPF_V1 = f['/Fluid Fields/Primitive/Three-Velocity (1)' ][:]\n",
    "\n",
    "        uCF_D = f['/Fluid Fields/Conserved/Conserved Baryon Density'][:]\n",
    "        uCF_Ne = f['/Fluid Fields/Conserved/Conserved Electron Density'][:]\n",
    "        \n",
    "        shock = f['/Shock Detector/Shock'][0][0][:]\n",
    "        \n",
    "\n",
    "       # print(\"Time:\", float(time), \"ms\")\n",
    "\n",
    "        data[sims[i]] = {}\n",
    "        data[sims[i]]['x1'] = x1[:]\n",
    "        data[sims[i]][fields[0]] = uAF_P[0][0][:]\n",
    "        data[sims[i]][fields[1]] = mb * uCF_Ne[0][0][:] / uCF_D[0][0][:]#uAF_Ye[0][0][:]\n",
    "        data[sims[i]][fields[2]] = uPF_V1[0][0][:]\n",
    "        data[sims[i]][fields[3]] = uCF_D[0][0][:]\n",
    "        data[sims[i]][fields[4]] = uCF_Ne[0][0][:]\n",
    "        data[sims[i]]['shock'] = shock\n",
    "#         for j in range(len(fields)):\n",
    "#             data2[sims[i]][fields[j]] = \n",
    "    \n",
    "## Reference Run    \n",
    "with h5py.File(fileName_ref, 'r') as f:\n",
    "    for key in f.keys():\n",
    "        print(key)\n",
    "    \n",
    "    time = f['Time'][:]\n",
    "\n",
    "    x1_ref = f['/Spatial Grid/X1'][:]\n",
    "    \n",
    "    uAF_P_ref  = f['/Fluid Fields/Auxiliary/Pressure'][:]\n",
    "    uAF_Ye_ref = f['/Fluid Fields/Auxiliary/Electron Fraction'][:]\n",
    "\n",
    "    uPF_V1_ref = f['/Fluid Fields/Primitive/Three-Velocity (1)' ][:]\n",
    "    \n",
    "    uCF_D_ref = f['/Fluid Fields/Conserved/Conserved Baryon Density'][:]\n",
    "    uCF_Ne_ref = f['/Fluid Fields/Conserved/Conserved Electron Density'][:]\n",
    "    \n",
    "    print(\"Time:\", float(time), \"ms\")\n",
    "          \n",
    "      "
   ]
  },
  {
   "cell_type": "code",
   "execution_count": null,
   "metadata": {},
   "outputs": [],
   "source": []
  },
  {
   "cell_type": "markdown",
   "metadata": {},
   "source": [
    "Reference run"
   ]
  },
  {
   "cell_type": "code",
   "execution_count": 25,
   "metadata": {},
   "outputs": [],
   "source": [
    "data_ref = {}\n",
    "data_ref['x1'] = x1_ref\n",
    "data_ref['uCF_D'] = uCF_D_ref[0][0][:]\n",
    "data_ref['uAF_Ye'] = mb * uCF_Ne_ref[0][0][:] / uCF_D_ref[0][0][:] #uAF_Ye_ref[0][0][:]\n",
    "data_ref['uCF_Ne'] = uCF_Ne_ref[0][0][:]\n",
    "data_ref['uAF_P'] = uAF_P_ref[0][0][:]\n",
    "data_ref['uPF_V1'] = uPF_V1_ref[0][0][:]"
   ]
  },
  {
   "cell_type": "markdown",
   "metadata": {},
   "source": [
    "Compute Cell Averages\n",
    "\n",
    "Do this by summing over the pts in a cell (nNodes points per cell)"
   ]
  },
  {
   "cell_type": "code",
   "execution_count": 27,
   "metadata": {},
   "outputs": [],
   "source": [
    "nNodes = 3\n",
    "wG = [ 5.0/(1*18.0), 8.0/(1*18.0), 5.0/(1*18.0) ]\n",
    "N_N = len(x1)\n",
    "\n",
    "N_K = N_N / nNodes\n",
    "\n",
    "#Make this nicer by creating a summation over len(fields)\n",
    "data_avg = {}\n",
    "for i in range( len( sims ) ):\n",
    "    data_avg[sims[i]] = {}\n",
    "    data_avg[sims[i]]['x1'] = np.zeros(int(N_K)) #Create arrays of length N_K\n",
    "    data_avg[sims[i]][fields[0]] = np.zeros(int(N_K))\n",
    "    data_avg[sims[i]][fields[1]] = np.zeros(int(N_K))\n",
    "    data_avg[sims[i]][fields[2]] = np.zeros(int(N_K))\n",
    "    data_avg[sims[i]][fields[3]] = np.zeros(int(N_K))\n",
    "    data_avg[sims[i]][fields[4]] = np.zeros(int(N_K))\n",
    "    for j in range(int(N_K)):\n",
    "        data_avg[sims[i]]['x1'][j] = (np.sum( wG * data[sims[i]]['x1'][(j)*nNodes:(j+1)*nNodes] ))\n",
    "        data_avg[sims[i]][fields[0]][j] = np.sum( wG * data[sims[i]][fields[0]][(j)*nNodes:(j+1)*nNodes] )\n",
    "        data_avg[sims[i]][fields[1]][j] = np.sum( wG * data[sims[i]][fields[1]][(j)*nNodes:(j+1)*nNodes] )\n",
    "        data_avg[sims[i]][fields[2]][j] = np.sum( wG * data[sims[i]][fields[2]][(j)*nNodes:(j+1)*nNodes] )\n",
    "        data_avg[sims[i]][fields[3]][j] = np.sum( wG * data[sims[i]][fields[3]][(j)*nNodes:(j+1)*nNodes] )\n",
    "        data_avg[sims[i]][fields[4]][j] = np.sum( wG * data[sims[i]][fields[4]][(j)*nNodes:(j+1)*nNodes] )"
   ]
  },
  {
   "cell_type": "markdown",
   "metadata": {},
   "source": [
    "Error Functions"
   ]
  },
  {
   "cell_type": "code",
   "execution_count": 28,
   "metadata": {},
   "outputs": [
    {
     "name": "stderr",
     "output_type": "stream",
     "text": [
      "/anaconda3/lib/python3.6/site-packages/ipykernel_launcher.py:12: RuntimeWarning: divide by zero encountered in true_divide\n",
      "  if sys.path[0] == '':\n"
     ]
    }
   ],
   "source": [
    "#1. Interpolate data_ref onto data\n",
    "x = np.linspace(-5,5,len(data_ref['x1']))\n",
    "data_interp = {}\n",
    "\n",
    "error = {}\n",
    "for i in range( len( sims ) ):\n",
    "    data_interp[sims[i]] = {}\n",
    "    error[sims[i]] = {}\n",
    "    data_interp[sims[i]]['x1'] = np.interp(data[sims[i]]['x1'],x,data_ref['x1'])\n",
    "    for j in range(len(fields)):\n",
    "        data_interp[sims[i]][fields[j]] = np.interp(data[sims[i]]['x1'],x,data_ref[fields[j]])\n",
    "        error[sims[i]][fields[j]] = (1/300.0) * sum(abs((data_interp[sims[i]][fields[j]] - data[sims[i]][fields[j]]) ) / data_interp[sims[i]][fields[j]] )\n"
   ]
  },
  {
   "cell_type": "markdown",
   "metadata": {},
   "source": [
    "Construct a Nicer Error Numpy Matrix"
   ]
  },
  {
   "cell_type": "code",
   "execution_count": 29,
   "metadata": {},
   "outputs": [],
   "source": [
    "\n",
    "errMat = np.zeros((4, 4))\n",
    "\n",
    "errMat[0,0] = error[sims[12]]['uCF_D']\n",
    "errMat[0,1] = error[sims[13]]['uCF_D']\n",
    "errMat[0,2] = error[sims[14]]['uCF_D']\n",
    "errMat[0,3] = error[sims[15]]['uCF_D']\n",
    "errMat[1,0] = error[sims[8]]['uCF_D']\n",
    "errMat[1,1] = error[sims[9]]['uCF_D']\n",
    "errMat[1,2] = error[sims[10]]['uCF_D']\n",
    "errMat[1,3] = error[sims[11]]['uCF_D']\n",
    "errMat[2,0] = error[sims[4]]['uCF_D']\n",
    "errMat[2,1] = error[sims[5]]['uCF_D']\n",
    "errMat[2,2] = error[sims[6]]['uCF_D']\n",
    "errMat[2,3] = error[sims[7]]['uCF_D']\n",
    "errMat[3,0] = error[sims[0]]['uCF_D']\n",
    "errMat[3,1] = error[sims[1]]['uCF_D']\n",
    "errMat[3,2] = error[sims[2]]['uCF_D']\n",
    "errMat[3,3] = error[sims[3]]['uCF_D']"
   ]
  },
  {
   "cell_type": "code",
   "execution_count": 11,
   "metadata": {},
   "outputs": [
    {
     "name": "stdout",
     "output_type": "stream",
     "text": [
      "0.021411463763005355\n",
      "0.007702979700381697\n"
     ]
    }
   ],
   "source": [
    "print(errMat[3,0])\n",
    "print(errMat[0,0])"
   ]
  },
  {
   "cell_type": "markdown",
   "metadata": {},
   "source": [
    "Plot Error Heatmaps"
   ]
  },
  {
   "cell_type": "code",
   "execution_count": 30,
   "metadata": {},
   "outputs": [
    {
     "data": {
      "text/plain": [
       "<Figure size 576x288 with 0 Axes>"
      ]
     },
     "metadata": {},
     "output_type": "display_data"
    },
    {
     "data": {
      "image/png": "[encoded data removed]",
      "text/plain": [
       "<Figure size 288x288 with 2 Axes>"
      ]
     },
     "metadata": {
      "needs_background": "light"
     },
     "output_type": "display_data"
    }
   ],
   "source": [
    "plt.figure(figsize = (8,4))\n",
    "#plt.rcParams[\"figure.figsize\"] = [15,4]\n",
    "cmap = plt.get_cmap('Blues')\n",
    "cax = plt.matshow(errMat, cmap = cmap)\n",
    "cax.cmap.set_under('whitesmoke')\n",
    "#cax.set_clim(0,1.5)\n",
    "cbar = plt.colorbar(cax)\n",
    "cbar.set_label(r'Relative Error', fontsize=15)\n",
    "\n",
    "\n",
    "### Set the axes settings\n",
    "Bvals = [2.0, 1.75, 1.5, 1.0]\n",
    "ax = plt.gca() # grab the current axis\n",
    "yticks = ax.set_yticks((range(4)))\n",
    "ax.set_yticklabels(Bvals)\n",
    "ax.set_ylabel(r\"$\\beta_{TVD}$\", fontsize=15)\n",
    "\n",
    "Cvals = [0.0, 0.015, 0.05, 0.1]\n",
    "yticks = ax.set_xticks((range(len(Cvals))))\n",
    "#ax.set_xticks(Cvals) # choose which x locations to have ticks\n",
    "ax.set_xticklabels(Cvals) \n",
    "ax.xaxis.set_label_position('bottom')\n",
    "ax.set_xlabel(r\"$C_{TCI}$\", fontsize=15)#,fontsize=16)\n",
    "ax.xaxis.tick_bottom()\n",
    "\n",
    "ax.set_title(r\"Relative Error in Density\",fontsize=15)\n",
    "\n",
    "ax.set_aspect('auto')\n",
    "\n",
    "# plt.show()"
   ]
  },
  {
   "cell_type": "markdown",
   "metadata": {},
   "source": [
    "Compute Total Variation"
   ]
  },
  {
   "cell_type": "code",
   "execution_count": 36,
   "metadata": {},
   "outputs": [],
   "source": [
    "# TV = sum( ub_k+1 - ub_k)\n",
    "tv = {}\n",
    "for i in range( len( sims ) ):\n",
    "    tv[sims[i]] = {}\n",
    "    for j in range(len(fields)):\n",
    "        tv[sims[i]][fields[j]] = 0#np.zeros(int(N_K))\n",
    "        for k in range(int(N_K)-1):\n",
    "            tv[sims[i]][fields[j]] += abs((data_avg[sims[i]][fields[j]][k+1] - data_avg[sims[i]][fields[j]][k]) ) \n",
    "            "
   ]
  },
  {
   "cell_type": "code",
   "execution_count": 37,
   "metadata": {},
   "outputs": [
    {
     "data": {
      "text/plain": [
       "<Figure size 576x288 with 0 Axes>"
      ]
     },
     "metadata": {},
     "output_type": "display_data"
    },
    {
     "data": {
      "image/png": "[encoded data removed]",
      "text/plain": [
       "<Figure size 288x288 with 2 Axes>"
      ]
     },
     "metadata": {
      "needs_background": "light"
     },
     "output_type": "display_data"
    }
   ],
   "source": [
    "tvMat = np.zeros((4, 4))\n",
    "\n",
    "tvMat[0,0] = tv[sims[12]]['uCF_D']\n",
    "tvMat[0,1] = tv[sims[13]]['uCF_D']\n",
    "tvMat[0,2] = tv[sims[14]]['uCF_D']\n",
    "tvMat[0,3] = tv[sims[15]]['uCF_D']\n",
    "tvMat[1,0] = tv[sims[8]]['uCF_D']\n",
    "tvMat[1,1] = tv[sims[9]]['uCF_D']\n",
    "tvMat[1,2] = tv[sims[10]]['uCF_D']\n",
    "tvMat[1,3] = tv[sims[11]]['uCF_D']\n",
    "tvMat[2,0] = tv[sims[4]]['uCF_D']\n",
    "tvMat[2,1] = tv[sims[5]]['uCF_D']\n",
    "tvMat[2,2] = tv[sims[6]]['uCF_D']\n",
    "tvMat[2,3] = tv[sims[7]]['uCF_D']\n",
    "tvMat[3,0] = tv[sims[0]]['uCF_D']\n",
    "tvMat[3,1] = tv[sims[1]]['uCF_D']\n",
    "tvMat[3,2] = tv[sims[2]]['uCF_D']\n",
    "tvMat[3,3] = tv[sims[3]]['uCF_D']\n",
    "\n",
    "\n",
    "\n",
    "plt.figure(figsize = (8,4))\n",
    "#plt.rcParams[\"figure.figsize\"] = [15,4]\n",
    "cmap = plt.get_cmap('Purples')\n",
    "cax = plt.matshow(tvMat, cmap = cmap)\n",
    "cax.cmap.set_under('whitesmoke')\n",
    "#cax.set_clim(0,1.5)\n",
    "cbar = plt.colorbar(cax)\n",
    "cbar.set_label(r'Total Variation', fontsize=15)\n",
    "\n",
    "\n",
    "### Set the axes settings\n",
    "Bvals = [2.0, 1.75, 1.5, 1.0]\n",
    "ax = plt.gca() # grab the current axis\n",
    "yticks = ax.set_yticks((range(4)))\n",
    "ax.set_yticklabels(Bvals)\n",
    "ax.set_ylabel(r\"$\\beta_{TVD}$\", fontsize=15)\n",
    "\n",
    "Cvals = [0.0, 0.015, 0.05, 0.1]\n",
    "yticks = ax.set_xticks((range(len(Cvals))))\n",
    "#ax.set_xticks(Cvals) # choose which x locations to have ticks\n",
    "ax.set_xticklabels(Cvals) \n",
    "ax.xaxis.set_label_position('bottom')\n",
    "ax.set_xlabel(r\"$C_{TCI}$\", fontsize=15)#,fontsize=16)\n",
    "ax.xaxis.tick_bottom()\n",
    "\n",
    "ax.set_title(r\"Total Variation in Density\",fontsize=15)\n",
    "\n",
    "ax.set_aspect('auto')\n",
    "\n",
    "# plt.show()"
   ]
  },
  {
   "cell_type": "markdown",
   "metadata": {},
   "source": [
    "Total Variation in $y_{e}$"
   ]
  },
  {
   "cell_type": "code",
   "execution_count": 38,
   "metadata": {},
   "outputs": [
    {
     "data": {
      "text/plain": [
       "<Figure size 576x288 with 0 Axes>"
      ]
     },
     "metadata": {},
     "output_type": "display_data"
    },
    {
     "data": {
      "image/png": "[encoded data removed]",
      "text/plain": [
       "<Figure size 288x288 with 2 Axes>"
      ]
     },
     "metadata": {
      "needs_background": "light"
     },
     "output_type": "display_data"
    }
   ],
   "source": [
    "tvMat = np.zeros((4, 4))\n",
    "\n",
    "tvMat[0,0] = tv[sims[12]]['uAF_Ye']\n",
    "tvMat[0,1] = tv[sims[13]]['uAF_Ye']\n",
    "tvMat[0,2] = tv[sims[14]]['uAF_Ye']\n",
    "tvMat[0,3] = tv[sims[15]]['uAF_Ye']\n",
    "tvMat[1,0] = tv[sims[8]]['uAF_Ye']\n",
    "tvMat[1,1] = tv[sims[9]]['uAF_Ye']\n",
    "tvMat[1,2] = tv[sims[10]]['uAF_Ye']\n",
    "tvMat[1,3] = tv[sims[11]]['uAF_Ye']\n",
    "tvMat[2,0] = tv[sims[4]]['uAF_Ye']\n",
    "tvMat[2,1] = tv[sims[5]]['uAF_Ye']\n",
    "tvMat[2,2] = tv[sims[6]]['uAF_Ye']\n",
    "tvMat[2,3] = tv[sims[7]]['uAF_Ye']\n",
    "tvMat[3,0] = tv[sims[0]]['uAF_Ye']\n",
    "tvMat[3,1] = tv[sims[1]]['uAF_Ye']\n",
    "tvMat[3,2] = tv[sims[2]]['uAF_Ye']\n",
    "tvMat[3,3] = tv[sims[3]]['uAF_Ye']\n",
    "\n",
    "plt.figure(figsize = (8,4))\n",
    "#plt.rcParams[\"figure.figsize\"] = [15,4]\n",
    "cmap = plt.get_cmap('Greens')\n",
    "cax = plt.matshow(tvMat, cmap = cmap)\n",
    "cax.cmap.set_under('whitesmoke')\n",
    "#cax.set_clim(0,1.5)\n",
    "cbar = plt.colorbar(cax)\n",
    "cbar.set_label(r'Total Variation', fontsize=15)\n",
    "\n",
    "\n",
    "### Set the axes settings\n",
    "Bvals = [2.0, 1.75, 1.5, 1.0]\n",
    "ax = plt.gca() # grab the current axis\n",
    "yticks = ax.set_yticks((range(4)))\n",
    "ax.set_yticklabels(Bvals)\n",
    "ax.set_ylabel(r\"$\\beta_{TVD}$\", fontsize=15)\n",
    "\n",
    "Cvals = [0.0, 0.015, 0.05, 0.1]\n",
    "yticks = ax.set_xticks((range(len(Cvals))))\n",
    "#ax.set_xticks(Cvals) # choose which x locations to have ticks\n",
    "ax.set_xticklabels(Cvals) \n",
    "ax.xaxis.set_label_position('bottom')\n",
    "ax.set_xlabel(r\"$C_{TCI}$\", fontsize=15)#,fontsize=16)\n",
    "ax.xaxis.tick_bottom()\n",
    "\n",
    "ax.set_title(r\"Total Variation in Electron Fraction\",fontsize=15)\n",
    "\n",
    "ax.set_aspect('auto')\n",
    "\n"
   ]
  },
  {
   "cell_type": "markdown",
   "metadata": {},
   "source": [
    "Error for $y_{e}$"
   ]
  },
  {
   "cell_type": "code",
   "execution_count": 39,
   "metadata": {},
   "outputs": [
    {
     "data": {
      "text/plain": [
       "<Figure size 576x288 with 0 Axes>"
      ]
     },
     "metadata": {},
     "output_type": "display_data"
    },
    {
     "data": {
      "image/png": "[encoded data removed]",
      "text/plain": [
       "<Figure size 288x288 with 2 Axes>"
      ]
     },
     "metadata": {
      "needs_background": "light"
     },
     "output_type": "display_data"
    }
   ],
   "source": [
    "errMat = np.zeros((4, 4))\n",
    "\n",
    "errMat[0,0] = error[sims[12]]['uAF_Ye']\n",
    "errMat[0,1] = error[sims[13]]['uAF_Ye']\n",
    "errMat[0,2] = error[sims[14]]['uAF_Ye']\n",
    "errMat[0,3] = error[sims[15]]['uAF_Ye']\n",
    "errMat[1,0] = error[sims[8]]['uAF_Ye']\n",
    "errMat[1,1] = error[sims[9]]['uAF_Ye']\n",
    "errMat[1,2] = error[sims[10]]['uAF_Ye']\n",
    "errMat[1,3] = error[sims[11]]['uAF_Ye']\n",
    "errMat[2,0] = error[sims[4]]['uAF_Ye']\n",
    "errMat[2,1] = error[sims[5]]['uAF_Ye']\n",
    "errMat[2,2] = error[sims[6]]['uAF_Ye']\n",
    "errMat[2,3] = error[sims[7]]['uAF_Ye']\n",
    "errMat[3,0] = error[sims[0]]['uAF_Ye']\n",
    "errMat[3,1] = error[sims[1]]['uAF_Ye']\n",
    "errMat[3,2] = error[sims[2]]['uAF_Ye']\n",
    "errMat[3,3] = error[sims[3]]['uAF_Ye']\n",
    "\n",
    "plt.figure(figsize = (8,4))\n",
    "#plt.rcParams[\"figure.figsize\"] = [15,4]\n",
    "cmap = plt.get_cmap('Oranges')\n",
    "cax = plt.matshow(errMat, cmap = cmap)\n",
    "cax.cmap.set_under('whitesmoke')\n",
    "#cax.set_clim(0,1.5)\n",
    "cbar = plt.colorbar(cax)\n",
    "cbar.set_label(r'Relative Error', fontsize=15)\n",
    "\n",
    "\n",
    "### Set the axes settings\n",
    "Bvals = [2.0, 1.75, 1.5, 1.0]\n",
    "ax = plt.gca() # grab the current axis\n",
    "yticks = ax.set_yticks((range(4)))\n",
    "ax.set_yticklabels(Bvals)\n",
    "ax.set_ylabel(r\"$\\beta_{TVD}$\", fontsize=15)\n",
    "\n",
    "Cvals = [0.0, 0.015, 0.05, 0.1]\n",
    "yticks = ax.set_xticks((range(len(Cvals))))\n",
    "#ax.set_xticks(Cvals) # choose which x locations to have ticks\n",
    "ax.set_xticklabels(Cvals) \n",
    "ax.xaxis.set_label_position('bottom')\n",
    "ax.set_xlabel(r\"$C_{TCI}$\", fontsize=15)#,fontsize=16)\n",
    "ax.xaxis.tick_bottom()\n",
    "\n",
    "ax.set_title(r\"Relative Error in Electron Fraction\",fontsize=15)\n",
    "\n",
    "ax.set_aspect('auto')"
   ]
  },
  {
   "cell_type": "markdown",
   "metadata": {},
   "source": [
    "Plot! Compare to 'Analytic' Diagonals, Red is Winner (2.0, 0.2)"
   ]
  },
  {
   "cell_type": "code",
   "execution_count": 16,
   "metadata": {},
   "outputs": [
    {
     "data": {
      "image/png": "[encoded data removed]",
      "text/plain": [
       "<Figure size 504x504 with 1 Axes>"
      ]
     },
     "metadata": {
      "needs_background": "light"
     },
     "output_type": "display_data"
    }
   ],
   "source": [
    "sims = [\"100_B1.0_C0.0_3\", \"100_B1.0_C1.5E-2_3\", \"100_B1.0_C5E-2_3\", \"100_B1.0_C1.0E-1_3\",\n",
    "        \"100_B1.5_C0.0_3\", \"100_B1.5_C1.5E-2_3\", \"100_B1.5_C5E-2_3\",\"100_B1.5_C1.0E-1_3\",\n",
    "       \"100_B1.75_C0.0_3\", \"100_B1.75_C1.5E-2_3\", \"100_B1.75_C5E-2_3\",\"100_B1.75_C1.0E-1_3\",\n",
    "        \"100_B2.0_C0.0_3\", \"100_B2.0_C1.5E-2_3\", \"100_B2.0_C5E-2_3\", \"100_B2.0_C1.0E-1_3\"] #The desired run\n",
    "fig, cax = plt.subplots(1, sharex=True,figsize=(7,7))\n",
    "\n",
    "cax.plot(x1_ref,data_ref['uCF_D'], linestyle='-',linewidth=3.0, label=\"Reference\", color = \"blue\")\n",
    "#cax.plot(data_avg[sims[10]]['x1'],data_avg[sims[9]]['uCF_D'], marker='.',linestyle='-',linewidth=1.0, label=r\"$\\beta_{TVD} = 1.75, C_{TCI}=0.1$\", alpha=1.0)\n",
    "cax.plot(data_avg[sims[15]]['x1'],data_avg[sims[15]]['uCF_D'], marker='.',linestyle='-',linewidth=1.0, color='yellow',label=r\"$\\beta_{TVD} = 2.0, C_{TCI}=0.2$\", alpha=1.0)\n",
    "\n",
    "\n",
    "\n",
    "#cax.plot(x1,data['100_B1.0_C1.5E-2_3']['uCF_D'], linestyle='-', marker='.',markersize=2,linewidth=0.75, label=r\"$\\beta_{TVD} = 1.0, C_{TCI}=1.5*10^{-2}$\", alpha=1.0)\n",
    "\n",
    "\n",
    "\n",
    "\n",
    "\n",
    "cax.legend()\n",
    "fig.suptitle(\"Sod Shock Tube: nX=100, nNodes=3\")\n",
    "# for ax in cax.flat:\n",
    "#     ax.set(xlabel='x-label', ylabel='y-label')\n",
    "\n",
    "cax.set(xlabel=\"x [km]\",ylabel = r'Density [g/cm$^3$]')\n",
    "\n",
    "#plt.savefig(figDir+\"sod_nuclear_char_t.png\", dpi=300, format=\"png\")\n",
    "\n",
    "#Border width\n",
    "# cax.spines['bottom'].set_linewidth(1.5)\n",
    "# cax.spines['left'].set_linewidth(1.5)\n",
    "# cax.spines['top'].set_linewidth(1.5)\n",
    "# cax.spines['right'].set_linewidth(1.5)\n",
    "\n",
    "plt.show()"
   ]
  },
  {
   "cell_type": "markdown",
   "metadata": {},
   "source": [
    "Electron Fraction vs Reference"
   ]
  },
  {
   "cell_type": "code",
   "execution_count": 35,
   "metadata": {},
   "outputs": [
    {
     "data": {
      "image/png": "[encoded data removed]",
      "text/plain": [
       "<Figure size 504x504 with 1 Axes>"
      ]
     },
     "metadata": {
      "needs_background": "light"
     },
     "output_type": "display_data"
    }
   ],
   "source": [
    "sims = [\"100_B1.0_C0.0_3\", \"100_B1.0_C1.5E-2_3\", \"100_B1.0_C5E-2_3\", \"100_B1.0_C1.0E-1_3\",\n",
    "        \"100_B1.5_C0.0_3\", \"100_B1.5_C1.5E-2_3\", \"100_B1.5_C5E-2_3\",\"100_B1.5_C1.0E-1_3\",\n",
    "       \"100_B1.75_C0.0_3\", \"100_B1.75_C1.5E-2_3\", \"100_B1.75_C5E-2_3\",\"100_B1.75_C1.0E-1_3\",\n",
    "        \"100_B2.0_C0.0_3\", \"100_B2.0_C1.5E-2_3\", \"100_B2.0_C5E-2_3\", \"100_B2.0_C1.0E-1_3\"] #The desired run\n",
    "\n",
    "\n",
    "fig, cax = plt.subplots(1, sharex=True,figsize=(7,7))\n",
    "\n",
    "cax.plot(x1_ref,data_ref['uAF_Ye'], linestyle='-',linewidth=3.0, label=\"Reference\", color = \"blue\")\n",
    "cax.plot(data_avg[sims[15]]['x1'],data_avg[sims[15]]['uAF_Ye'], marker='.',linestyle='-',linewidth=1.0, color='yellow',label=r\"$\\beta_{TVD} = 2.0, C_{TCI}=0.2$\", alpha=1.0)\n",
    "\n",
    "\n",
    "\n",
    "\n",
    "#cax.plot(x1,data['100_B1.0_C1.5E-2_3']['uCF_D'], linestyle='-', marker='.',markersize=2,linewidth=0.75, label=r\"$\\beta_{TVD} = 1.0, C_{TCI}=1.5*10^{-2}$\", alpha=1.0)\n",
    "\n",
    "\n",
    "\n",
    "\n",
    "\n",
    "cax.legend()\n",
    "fig.suptitle(\"Sod Shock Tube: nX=100, nNodes=3\")\n",
    "# for ax in cax.flat:\n",
    "#     ax.set(xlabel='x-label', ylabel='y-label')\n",
    "\n",
    "cax.set(xlabel=\"x [km]\",ylabel = r'Electron Fraction')\n",
    "\n",
    "\n",
    "plt.show()"
   ]
  },
  {
   "cell_type": "markdown",
   "metadata": {},
   "source": [
    "Plot! Density"
   ]
  },
  {
   "cell_type": "code",
   "execution_count": 25,
   "metadata": {},
   "outputs": [
    {
     "data": {
      "application/vnd.jupyter.widget-view+json": {
       "model_id": "cfaa1b4c3a7440e586182db6d75513b6",
       "version_major": 2,
       "version_minor": 0
      },
      "text/plain": [
       "FigureCanvasNbAgg()"
      ]
     },
     "metadata": {},
     "output_type": "display_data"
    }
   ],
   "source": [
    "fig, cax = plt.subplots(2, sharex=True,figsize=(8,8))\n",
    "\n",
    "cax[0].plot(x1_cw,data_cw['uCF_D'], linestyle='-', marker='.',linewidth=1.0, label=\"No Characteristic Limiting\", color = \"blue\")\n",
    "cax[0].plot(x1,data['uCF_D'], linestyle='-', marker='.',linewidth=0.75, label=\"Characteristic Limiting\", color=\"red\", alpha=1.0)\n",
    "\n",
    "cax[1].plot(x1,data_cw['uAF_P'], linestyle='-', marker='.',linewidth=0.75, label=\"No Characteristic Limiting\", color=\"blue\", alpha=1.0)\n",
    "cax[1].plot(x1,data['uAF_P'], linestyle='-', marker='.',linewidth=0.75, label=\"Characteristic Limiting\", color=\"red\", alpha=1.0)\n",
    "\n",
    "cax[0].legend()\n",
    "cax[1].legend()\n",
    "fig.suptitle(\"Sod Shock Tube: nX=100, nNodes=3\")\n",
    "# for ax in cax.flat:\n",
    "#     ax.set(xlabel='x-label', ylabel='y-label')\n",
    "\n",
    "cax[0].set(ylabel = r'Density [g/cm$^3$]')\n",
    "cax[1].set(xlabel=\"x [km]\", ylabel = r'Pressure [erg/cm$^3$]')\n",
    "\n",
    "#plt.savefig(figDir+\"sod_nuclear_char_t.png\", dpi=300, format=\"png\")\n",
    "\n",
    "plt.show()"
   ]
  },
  {
   "cell_type": "code",
   "execution_count": 22,
   "metadata": {},
   "outputs": [
    {
     "data": {
      "image/png": "[encoded data removed]",
      "text/plain": [
       "<Figure size 648x648 with 1 Axes>"
      ]
     },
     "metadata": {
      "needs_background": "light"
     },
     "output_type": "display_data"
    }
   ],
   "source": [
    "fig, ax1 = plt.subplots(1,figsize=(9,9))\n",
    "\n",
    "ye_char = []\n",
    "ye_char[:] = data['uCF_Ne'][:]* mb / data['uCF_D'][:]\n",
    "\n",
    "ye_cw = []\n",
    "ye_cw[:] = data_cw['uCF_Ne'][:]* mb / data_cw['uCF_D'][:]\n",
    "\n",
    "ye_test = []\n",
    "ye_test[:] = data_test['uCF_Ne'][:]* mb / data_test['uCF_D'][:]\n",
    "\n",
    "ax1.plot(x1,ye, linestyle='-', marker='.',linewidth=1.0, label=\"No Characteristic Limiting\", color = \"blue\")\n",
    "ax1.plot(x1,ye_char, linestyle='-', marker='.',linewidth=0.75, label=\"Characteristic Limiting, OLD\", color=\"red\", alpha=1.0)\n",
    "ax1.plot(x1_test,ye_test, linestyle='-', marker='.',linewidth=0.75, label=\"Characteristic Limiting\", color=\"black\", alpha=1.0)\n",
    "\n",
    "\n",
    "\n",
    "ax1.legend()\n",
    "plt.title(\"Sod Shock Tube: nX=100, nNodes=3\")\n",
    "ax1.set(xlabel='x [km]',ylabel=\"Electron Fraction\")\n",
    "\n",
    "#plt.savefig(figDir+\"sod_nuclear_char_t.png\", dpi=300, format=\"png\")\n",
    "\n",
    "plt.show()"
   ]
  },
  {
   "cell_type": "code",
   "execution_count": null,
   "metadata": {},
   "outputs": [],
   "source": []
  },
  {
   "cell_type": "code",
   "execution_count": null,
   "metadata": {},
   "outputs": [],
   "source": []
  }
 ],
 "metadata": {
  "kernelspec": {
   "display_name": "Python 3",
   "language": "python",
   "name": "python3"
  },
  "language_info": {
   "codemirror_mode": {
    "name": "ipython",
    "version": 3
   },
   "file_extension": ".py",
   "mimetype": "text/x-python",
   "name": "python",
   "nbconvert_exporter": "python",
   "pygments_lexer": "ipython3",
   "version": "3.6.7"
  }
 },
 "nbformat": 4,
 "nbformat_minor": 2
}
